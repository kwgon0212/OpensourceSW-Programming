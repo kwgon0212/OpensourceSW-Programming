{
 "cells": [
  {
   "cell_type": "markdown",
   "metadata": {},
   "source": [
    "#### 예제1. 플러그형 할인 전략을 가진 Order 클래스 구현"
   ]
  },
  {
   "cell_type": "code",
   "execution_count": 1,
   "metadata": {},
   "outputs": [],
   "source": [
    "from abc import ABC, abstractmethod\n",
    "from collections import namedtuple\n",
    "\n",
    "Customer = namedtuple('Customer', 'name fidelity')"
   ]
  },
  {
   "cell_type": "code",
   "execution_count": 2,
   "metadata": {},
   "outputs": [
    {
     "data": {
      "text/plain": [
       "Customer(name='Park', fidelity=100)"
      ]
     },
     "execution_count": 2,
     "metadata": {},
     "output_type": "execute_result"
    }
   ],
   "source": [
    "jack = Customer('Park', 100)\n",
    "jack"
   ]
  },
  {
   "cell_type": "code",
   "execution_count": 3,
   "metadata": {},
   "outputs": [],
   "source": [
    "class LineItem:\n",
    "    \"\"\"구매할 물품/갯수 생성해서 총 가격을 반환\"\"\"\n",
    "    def __init__(self, product, quantity, price):\n",
    "        self.product = product\n",
    "        self.quantity = quantity\n",
    "        self.price = price\n",
    "    \n",
    "    def total(self):\n",
    "        return self.price * self.quantity"
   ]
  },
  {
   "cell_type": "code",
   "execution_count": 4,
   "metadata": {},
   "outputs": [],
   "source": [
    "class Order: # Context\n",
    "    \"\"\"고객(namedtuple) 및 LineItem 클래스의 인스턴스들을 cart로 받아서 총 계산할 가격을 산출\"\"\"\n",
    "    def __init__(self, customer, cart, promotion=None):\n",
    "        self.customer = customer\n",
    "        self.cart = list(cart)\n",
    "        self.promotion = promotion # 할인 객체\n",
    "        \n",
    "    def total(self):\n",
    "        \"\"\"__total 속성이 없으면 전체 계산할 값을 계산\"\"\"\n",
    "        if not hasattr(self, '__total'):\n",
    "            self.__total = sum(item.total() for item in self.cart)\n",
    "        return self.__total\n",
    "    \n",
    "    def due(self):\n",
    "        \"\"\"할인금액 차감\"\"\"\n",
    "        if self.promotion is None:\n",
    "            discount = 0\n",
    "        else:\n",
    "            discount = self.promotion.discount(self) # self = Order 객체\n",
    "        return self.total() - discount\n",
    "    \n",
    "    def __repr__(self):\n",
    "        fmt = '<Order total: {:.2f} due: {:.2f}>'\n",
    "        return fmt.format(self.total(), self.due())"
   ]
  },
  {
   "cell_type": "code",
   "execution_count": 5,
   "metadata": {},
   "outputs": [],
   "source": [
    "class Promotion(ABC): # strategy abstract base class\n",
    "    \"\"\"할인 혜택 클래스들의 형태를 선언\"\"\"\n",
    "    \n",
    "    @abstractmethod # 이 클래스를 상속하는 클래스는 반드시 이 메서드를 선언해야함선언해야\n",
    "    def discount(self, order):\n",
    "        \"\"\"할인액을 구체적인 숫자로 반환\"\"\"\n",
    "        pass"
   ]
  },
  {
   "cell_type": "code",
   "execution_count": 6,
   "metadata": {},
   "outputs": [],
   "source": [
    "class FidelityPromo(Promotion):\n",
    "    \"\"\"충성도 점수가 1000점 이상인 고객에게 전체 5% 할인 적용\"\"\"\n",
    "    \n",
    "    def discount(self, order):\n",
    "        return order.total() * 0.05 if order.customer.fidelity >= 1000 else 0\n",
    "\n",
    "class BulkItemPromo(Promotion):\n",
    "    \"\"\"20개 이상의 동일 상품을 구입하면 10% 할인 적용\"\"\"\n",
    "    \n",
    "    def discount(self, order):\n",
    "        discount = 0\n",
    "        for item in order.cart:\n",
    "            if item.quantity >= 20:\n",
    "                discount += item.total() * 0.1\n",
    "        return discount\n",
    "    \n",
    "class LargeOrderPromo(Promotion):\n",
    "    \"\"\"10종류 이상의 상품을 구입하면 전체 7% 할인 적용\"\"\"\n",
    "    \n",
    "    def discount(self, order):\n",
    "        distinct_items = {item.product for item in order.cart}\n",
    "        if len(distinct_items) >= 10:\n",
    "            return order.total() * 0.07\n",
    "        return 0"
   ]
  },
  {
   "cell_type": "markdown",
   "metadata": {},
   "source": [
    "#### 예제2. 여러 프로모션 할인을 적용해서 Order 클래스를 사용하는 예"
   ]
  },
  {
   "cell_type": "code",
   "execution_count": 7,
   "metadata": {},
   "outputs": [],
   "source": [
    "joe = Customer('John Doe', 0)\n",
    "ann = Customer('Ann Smith', 1100)\n",
    "cart = [LineItem('banana', 4, .5),\n",
    "        LineItem('apple', 10, 1.5),\n",
    "        LineItem('watermellon', 5, 5.0)]"
   ]
  },
  {
   "cell_type": "code",
   "execution_count": 8,
   "metadata": {},
   "outputs": [
    {
     "data": {
      "text/plain": [
       "<Order total: 42.00 due: 42.00>"
      ]
     },
     "execution_count": 8,
     "metadata": {},
     "output_type": "execute_result"
    }
   ],
   "source": [
    "Order(joe, cart, FidelityPromo())"
   ]
  },
  {
   "cell_type": "code",
   "execution_count": 9,
   "metadata": {},
   "outputs": [
    {
     "data": {
      "text/plain": [
       "<Order total: 42.00 due: 39.90>"
      ]
     },
     "execution_count": 9,
     "metadata": {},
     "output_type": "execute_result"
    }
   ],
   "source": [
    "Order(ann, cart, FidelityPromo())"
   ]
  },
  {
   "cell_type": "code",
   "execution_count": 10,
   "metadata": {},
   "outputs": [],
   "source": [
    "banana_cart = [LineItem('banana', 30, .5),\n",
    "               LineItem('apple', 10, 1.5)]"
   ]
  },
  {
   "cell_type": "code",
   "execution_count": 12,
   "metadata": {},
   "outputs": [
    {
     "data": {
      "text/plain": [
       "<Order total: 30.00 due: 28.50>"
      ]
     },
     "execution_count": 12,
     "metadata": {},
     "output_type": "execute_result"
    }
   ],
   "source": [
    "Order(joe, banana_cart, BulkItemPromo())"
   ]
  },
  {
   "cell_type": "code",
   "execution_count": 13,
   "metadata": {},
   "outputs": [],
   "source": [
    "long_order = [LineItem(str(item_code), 1, 1.0)\n",
    "              for item_code in range(10)] # 물품 종류가 10개"
   ]
  },
  {
   "cell_type": "code",
   "execution_count": 14,
   "metadata": {},
   "outputs": [
    {
     "data": {
      "text/plain": [
       "<Order total: 10.00 due: 9.30>"
      ]
     },
     "execution_count": 14,
     "metadata": {},
     "output_type": "execute_result"
    }
   ],
   "source": [
    "Order(joe, long_order, LargeOrderPromo())"
   ]
  },
  {
   "cell_type": "code",
   "execution_count": 15,
   "metadata": {},
   "outputs": [
    {
     "data": {
      "text/plain": [
       "<Order total: 42.00 due: 42.00>"
      ]
     },
     "execution_count": 15,
     "metadata": {},
     "output_type": "execute_result"
    }
   ],
   "source": [
    "Order(joe, cart, LargeOrderPromo())"
   ]
  },
  {
   "cell_type": "markdown",
   "metadata": {},
   "source": [
    "#### 예제3. 할인 전략을 함수로 구현한 Order 클래스"
   ]
  },
  {
   "cell_type": "code",
   "execution_count": 21,
   "metadata": {},
   "outputs": [],
   "source": [
    "class Order: # Context\n",
    "    \"\"\"고객(namedtuple) 및 LineItem 클래스의 인스턴스들을 cart로 받아서 총 계산할 가격을 산출\"\"\"\n",
    "    def __init__(self, customer, cart, promotion=None):\n",
    "        self.customer = customer\n",
    "        self.cart = list(cart)\n",
    "        self.promotion = promotion # 할인 객체\n",
    "        \n",
    "    def total(self):\n",
    "        if not hasattr(self, '__total'):\n",
    "            self.__total = sum(item.total() for item in self.cart)\n",
    "        return self.__total\n",
    "    \n",
    "    def due(self):\n",
    "        if self.promotion is None:\n",
    "            discount = 0\n",
    "        else:\n",
    "            discount = self.promotion(self) # self = Order 객체\n",
    "        return self.total() - discount\n",
    "    \n",
    "    def __repr__(self):\n",
    "        fmt = '<Order total: {:.2f} due: {:.2f}>'\n",
    "        return fmt.format(self.total(), self.due())"
   ]
  },
  {
   "cell_type": "code",
   "execution_count": 22,
   "metadata": {},
   "outputs": [],
   "source": [
    "def fidelity_promo(order):\n",
    "    \"\"\"충성도 점수가 1000점 이상인 고객에게 전체 5% 할인 적용\"\"\"\n",
    "    return order.total() * 0.05 if order.customer.fidelity >= 1000 else 0\n",
    "\n",
    "def bulk_item_promo(order):\n",
    "    \"\"\"20개 이상의 동일 상품을 구입하면 10% 할인 적용\"\"\"\n",
    "    discount = 0\n",
    "    for item in order.cart:\n",
    "        if item.quantity >= 20:\n",
    "            discount += item.total() * 0.1\n",
    "    return discount\n",
    "\n",
    "def large_order_promo(order):\n",
    "    \"\"\"10종류 이상의 상품을 구입하면 전체 7% 할인 적용\"\"\"\n",
    "    distinct_items = {item.product for item in order.cart}\n",
    "    if len(distinct_items) >= 10:\n",
    "        return order.total() * 0.07\n",
    "    return 0"
   ]
  },
  {
   "cell_type": "code",
   "execution_count": 23,
   "metadata": {},
   "outputs": [
    {
     "data": {
      "text/plain": [
       "<Order total: 42.00 due: 42.00>"
      ]
     },
     "execution_count": 23,
     "metadata": {},
     "output_type": "execute_result"
    }
   ],
   "source": [
    "Order(joe, cart, fidelity_promo)"
   ]
  },
  {
   "cell_type": "code",
   "execution_count": 24,
   "metadata": {},
   "outputs": [
    {
     "data": {
      "text/plain": [
       "<Order total: 42.00 due: 39.90>"
      ]
     },
     "execution_count": 24,
     "metadata": {},
     "output_type": "execute_result"
    }
   ],
   "source": [
    "Order(ann, cart, fidelity_promo)"
   ]
  },
  {
   "cell_type": "code",
   "execution_count": 25,
   "metadata": {},
   "outputs": [
    {
     "data": {
      "text/plain": [
       "<Order total: 30.00 due: 28.50>"
      ]
     },
     "execution_count": 25,
     "metadata": {},
     "output_type": "execute_result"
    }
   ],
   "source": [
    "Order(joe, banana_cart, bulk_item_promo)"
   ]
  },
  {
   "cell_type": "code",
   "execution_count": 26,
   "metadata": {},
   "outputs": [
    {
     "data": {
      "text/plain": [
       "<Order total: 10.00 due: 9.30>"
      ]
     },
     "execution_count": 26,
     "metadata": {},
     "output_type": "execute_result"
    }
   ],
   "source": [
    "Order(ann, long_order, large_order_promo)"
   ]
  },
  {
   "cell_type": "markdown",
   "metadata": {},
   "source": [
    "#### 예제4. 함수 리스트를 반복해서 최대 할인액을 찾아내는 best_promo() 함수"
   ]
  },
  {
   "cell_type": "code",
   "execution_count": 27,
   "metadata": {},
   "outputs": [],
   "source": [
    "promos = [fidelity_promo, bulk_item_promo, large_order_promo]\n",
    "# 함수들로 구현된 전략들의 리스트\n",
    "\n",
    "def best_promo(order):\n",
    "    \"\"\"최대로 할인받을 금액을 반환\"\"\"\n",
    "    return max(promo(order) for promo in promos)"
   ]
  },
  {
   "cell_type": "markdown",
   "metadata": {},
   "source": [
    "#### 예제5. 모든 할인을 적용해서 가장 큰 값을 반환하는 best_promo() 함수"
   ]
  },
  {
   "cell_type": "code",
   "execution_count": 28,
   "metadata": {},
   "outputs": [
    {
     "data": {
      "text/plain": [
       "<Order total: 10.00 due: 9.30>"
      ]
     },
     "execution_count": 28,
     "metadata": {},
     "output_type": "execute_result"
    }
   ],
   "source": [
    "Order(joe, long_order, best_promo)"
   ]
  },
  {
   "cell_type": "code",
   "execution_count": 29,
   "metadata": {},
   "outputs": [
    {
     "data": {
      "text/plain": [
       "<Order total: 30.00 due: 28.50>"
      ]
     },
     "execution_count": 29,
     "metadata": {},
     "output_type": "execute_result"
    }
   ],
   "source": [
    "Order(joe, banana_cart, best_promo)"
   ]
  },
  {
   "cell_type": "code",
   "execution_count": 30,
   "metadata": {},
   "outputs": [
    {
     "data": {
      "text/plain": [
       "<Order total: 42.00 due: 39.90>"
      ]
     },
     "execution_count": 30,
     "metadata": {},
     "output_type": "execute_result"
    }
   ],
   "source": [
    "Order(ann, cart, best_promo)"
   ]
  },
  {
   "cell_type": "code",
   "execution_count": 31,
   "metadata": {},
   "outputs": [
    {
     "data": {
      "text/plain": [
       "dict_keys(['__name__', '__doc__', '__package__', '__loader__', '__spec__', '__builtin__', '__builtins__', '_ih', '_oh', '_dh', 'In', 'Out', 'get_ipython', 'exit', 'quit', 'open', '_', '__', '___', '__vsc_ipynb_file__', '_i', '_ii', '_iii', '_i1', 'ABC', 'abstractmethod', 'namedtuple', 'Customer', '_i2', 'jack', '_2', '_i3', 'LineItem', '_i4', 'Order', '_i5', 'Promotion', '_i6', 'FidelityPromo', 'BulkItemPromo', 'LargeOrderPromo', '_i7', 'joe', 'ann', 'cart', '_i8', '_8', '_i9', '_9', '_i10', 'banana_cart', '_i11', '_11', '_i12', '_12', '_i13', 'long_order', '_i14', '_14', '_i15', '_15', '_i16', '_i17', 'fidelity_promo', 'bulk_item_promo', 'large_order_promo', '_i18', '_18', '_i19', '_i20', '_20', '_i21', '_i22', '_i23', '_23', '_i24', '_24', '_i25', '_25', '_i26', '_26', '_i27', 'promos', 'best_promo', '_i28', '_28', '_i29', '_29', '_i30', '_30', '_i31'])"
      ]
     },
     "execution_count": 31,
     "metadata": {},
     "output_type": "execute_result"
    }
   ],
   "source": [
    "globals().keys()"
   ]
  },
  {
   "cell_type": "code",
   "execution_count": 32,
   "metadata": {},
   "outputs": [
    {
     "data": {
      "text/plain": [
       "<function __main__.best_promo(order)>"
      ]
     },
     "execution_count": 32,
     "metadata": {},
     "output_type": "execute_result"
    }
   ],
   "source": [
    "globals()['best_promo']"
   ]
  },
  {
   "cell_type": "markdown",
   "metadata": {},
   "source": [
    "#### 예제6. 모듈 전역 네임스페이스를 내부 조사해서 만든 promos 리스트"
   ]
  },
  {
   "cell_type": "code",
   "execution_count": 33,
   "metadata": {},
   "outputs": [
    {
     "data": {
      "text/plain": [
       "[<function __main__.fidelity_promo(order)>,\n",
       " <function __main__.bulk_item_promo(order)>,\n",
       " <function __main__.large_order_promo(order)>]"
      ]
     },
     "execution_count": 33,
     "metadata": {},
     "output_type": "execute_result"
    }
   ],
   "source": [
    "promos = [globals()[name] for name in globals()\n",
    "          if name.endswith('_promo')\n",
    "          and name != 'best_promo'] # 재귀호출을 피하기 위함\n",
    "promos"
   ]
  },
  {
   "cell_type": "markdown",
   "metadata": {},
   "source": [
    "#### 예제1. 일반적으로 Decorator는 함수를 다른 함수로 대체한다."
   ]
  },
  {
   "cell_type": "code",
   "execution_count": 34,
   "metadata": {},
   "outputs": [],
   "source": [
    "def deco(func):\n",
    "    def inner():\n",
    "        print('running inner()')\n",
    "    return inner"
   ]
  },
  {
   "cell_type": "code",
   "execution_count": 35,
   "metadata": {},
   "outputs": [
    {
     "name": "stdout",
     "output_type": "stream",
     "text": [
      "running inner()\n"
     ]
    }
   ],
   "source": [
    "@deco\n",
    "def target():\n",
    "    print('running target()')\n",
    "\n",
    "target() # 실제로는 inner()를 실행"
   ]
  },
  {
   "cell_type": "code",
   "execution_count": 36,
   "metadata": {},
   "outputs": [
    {
     "data": {
      "text/plain": [
       "<function __main__.deco.<locals>.inner()>"
      ]
     },
     "execution_count": 36,
     "metadata": {},
     "output_type": "execute_result"
    }
   ],
   "source": [
    "target # inner()를 가리킴"
   ]
  },
  {
   "cell_type": "markdown",
   "metadata": {},
   "source": [
    "#### 예제2. Decorator를 실행하는 시점 예제"
   ]
  },
  {
   "cell_type": "code",
   "execution_count": 37,
   "metadata": {},
   "outputs": [
    {
     "name": "stdout",
     "output_type": "stream",
     "text": [
      "running register(<function f1 at 0x107a9c040>)\n",
      "running register(<function f2 at 0x107c31b80>)\n",
      "running main()\n",
      "registry -> [<function f1 at 0x107a9c040>, <function f2 at 0x107c31b80>]\n",
      "running f1()\n",
      "running f2()\n",
      "running f3()\n"
     ]
    }
   ],
   "source": [
    "registry = [] # 여기에 decorated function 추가\n",
    "\n",
    "def register(func):\n",
    "    print('running register(%s)' % func)\n",
    "    registry.append(func)\n",
    "    return func\n",
    "\n",
    "@register\n",
    "def f1():\n",
    "    print('running f1()')\n",
    "    \n",
    "@register\n",
    "def f2():\n",
    "    print('running f2()')\n",
    "    \n",
    "def f3():\n",
    "    print('running f3()')\n",
    "    \n",
    "def main():\n",
    "    print('running main()')\n",
    "    print('registry ->', registry)\n",
    "    f1()\n",
    "    f2()\n",
    "    f3()\n",
    "    \n",
    "if __name__ == '__main__':\n",
    "    main()\n",
    "    "
   ]
  },
  {
   "cell_type": "markdown",
   "metadata": {},
   "source": [
    "#### 예제3. Promotion decorator로 채운 promos list"
   ]
  },
  {
   "cell_type": "code",
   "execution_count": 39,
   "metadata": {},
   "outputs": [],
   "source": [
    "promos = []\n",
    "\n",
    "def promotion(promo_func):\n",
    "    \"\"\"promotion() decorator는 promo_func를 promos 리스트에 추가한 후 그대로 반환\"\"\"\n",
    "    promos.append(promo_func)\n",
    "    return promo_func\n",
    "\n",
    "@promotion\n",
    "def fidelity_promo(order):\n",
    "    \"\"\"충성도 점수가 1000점 이상인 고객에게 전체 5% 할인 적용\"\"\"\n",
    "    return order.total() * 0.05 if order.customer.fidelity >= 1000 else 0\n",
    "\n",
    "@promotion\n",
    "def bulk_item_promo(order):\n",
    "    \"\"\"20개 이상의 동일 상품을 구입하면 10% 할인 적용\"\"\"\n",
    "    discount = 0\n",
    "    for item in order.cart:\n",
    "        if item.quantity >= 20:\n",
    "            discount += item.total() * 0.1\n",
    "    return discount\n",
    "\n",
    "@promotion\n",
    "def large_order_promo(order):\n",
    "    \"\"\"10종류 이상의 상품을 구입하면 전체 7% 할인 적용\"\"\"\n",
    "    distinct_items = {item.product for item in order.cart}\n",
    "    if len(distinct_items) >= 10:\n",
    "        return order.total() * 0.07\n",
    "    return\n",
    "\n",
    "def best_promo(order):\n",
    "    \"\"\"최대로 할인받을 금액을 반환한다.\"\"\"\n",
    "    return max(promo(order) for promo in promos)"
   ]
  },
  {
   "cell_type": "markdown",
   "metadata": {},
   "source": [
    "#### 예제4. 지역 및 전역 변수를 읽는 함수"
   ]
  },
  {
   "cell_type": "code",
   "execution_count": 40,
   "metadata": {},
   "outputs": [
    {
     "name": "stdout",
     "output_type": "stream",
     "text": [
      "3\n"
     ]
    },
    {
     "ename": "NameError",
     "evalue": "name 'b' is not defined",
     "output_type": "error",
     "traceback": [
      "\u001b[0;31m---------------------------------------------------------------------------\u001b[0m",
      "\u001b[0;31mNameError\u001b[0m                                 Traceback (most recent call last)",
      "Cell \u001b[0;32mIn[40], line 5\u001b[0m\n\u001b[1;32m      2\u001b[0m     \u001b[38;5;28mprint\u001b[39m(a)\n\u001b[1;32m      3\u001b[0m     \u001b[38;5;28mprint\u001b[39m(b)\n\u001b[0;32m----> 5\u001b[0m \u001b[43mf1\u001b[49m\u001b[43m(\u001b[49m\u001b[38;5;241;43m3\u001b[39;49m\u001b[43m)\u001b[49m\n",
      "Cell \u001b[0;32mIn[40], line 3\u001b[0m, in \u001b[0;36mf1\u001b[0;34m(a)\u001b[0m\n\u001b[1;32m      1\u001b[0m \u001b[38;5;28;01mdef\u001b[39;00m \u001b[38;5;21mf1\u001b[39m(a):\n\u001b[1;32m      2\u001b[0m     \u001b[38;5;28mprint\u001b[39m(a)\n\u001b[0;32m----> 3\u001b[0m     \u001b[38;5;28mprint\u001b[39m(\u001b[43mb\u001b[49m)\n",
      "\u001b[0;31mNameError\u001b[0m: name 'b' is not defined"
     ]
    }
   ],
   "source": [
    "def f1(a):\n",
    "    print(a)\n",
    "    print(b)\n",
    "    \n",
    "f1(3)"
   ]
  },
  {
   "cell_type": "code",
   "execution_count": 41,
   "metadata": {},
   "outputs": [
    {
     "name": "stdout",
     "output_type": "stream",
     "text": [
      "3\n",
      "6\n"
     ]
    }
   ],
   "source": [
    "b = 6\n",
    "f1(3)"
   ]
  },
  {
   "cell_type": "markdown",
   "metadata": {},
   "source": [
    "#### 예제5. 함수 본체 안에서 값을 할당하기 때문에 지역 변수가 되는 b"
   ]
  },
  {
   "cell_type": "code",
   "execution_count": 42,
   "metadata": {},
   "outputs": [
    {
     "name": "stdout",
     "output_type": "stream",
     "text": [
      "3\n"
     ]
    },
    {
     "ename": "UnboundLocalError",
     "evalue": "local variable 'b' referenced before assignment",
     "output_type": "error",
     "traceback": [
      "\u001b[0;31m---------------------------------------------------------------------------\u001b[0m",
      "\u001b[0;31mUnboundLocalError\u001b[0m                         Traceback (most recent call last)",
      "Cell \u001b[0;32mIn[42], line 7\u001b[0m\n\u001b[1;32m      4\u001b[0m     \u001b[38;5;28mprint\u001b[39m(b)\n\u001b[1;32m      5\u001b[0m     b \u001b[38;5;241m=\u001b[39m \u001b[38;5;241m9\u001b[39m\n\u001b[0;32m----> 7\u001b[0m \u001b[43mf2\u001b[49m\u001b[43m(\u001b[49m\u001b[38;5;241;43m3\u001b[39;49m\u001b[43m)\u001b[49m\n",
      "Cell \u001b[0;32mIn[42], line 4\u001b[0m, in \u001b[0;36mf2\u001b[0;34m(a)\u001b[0m\n\u001b[1;32m      2\u001b[0m \u001b[38;5;28;01mdef\u001b[39;00m \u001b[38;5;21mf2\u001b[39m(a):\n\u001b[1;32m      3\u001b[0m     \u001b[38;5;28mprint\u001b[39m(a)\n\u001b[0;32m----> 4\u001b[0m     \u001b[38;5;28mprint\u001b[39m(\u001b[43mb\u001b[49m)\n\u001b[1;32m      5\u001b[0m     b \u001b[38;5;241m=\u001b[39m \u001b[38;5;241m9\u001b[39m\n",
      "\u001b[0;31mUnboundLocalError\u001b[0m: local variable 'b' referenced before assignment"
     ]
    }
   ],
   "source": [
    "b = 6\n",
    "def f2(a):\n",
    "    print(a)\n",
    "    print(b)\n",
    "    b = 9\n",
    "    \n",
    "f2(3)"
   ]
  },
  {
   "cell_type": "markdown",
   "metadata": {},
   "source": [
    "#### 예제6. global 선언 후 변화"
   ]
  },
  {
   "cell_type": "code",
   "execution_count": 43,
   "metadata": {},
   "outputs": [
    {
     "name": "stdout",
     "output_type": "stream",
     "text": [
      "3\n",
      "6\n"
     ]
    }
   ],
   "source": [
    "b = 6\n",
    "def f3(a):\n",
    "    global b\n",
    "    print(a)\n",
    "    print(b)\n",
    "    b = 9\n",
    "\n",
    "f3(3)"
   ]
  },
  {
   "cell_type": "code",
   "execution_count": 45,
   "metadata": {},
   "outputs": [
    {
     "name": "stdout",
     "output_type": "stream",
     "text": [
      "3\n",
      "9\n"
     ]
    }
   ],
   "source": [
    "f3(3)"
   ]
  },
  {
   "cell_type": "code",
   "execution_count": 46,
   "metadata": {},
   "outputs": [
    {
     "name": "stdout",
     "output_type": "stream",
     "text": [
      "3\n",
      "30\n"
     ]
    }
   ],
   "source": [
    "b = 30\n",
    "f3(3)"
   ]
  },
  {
   "cell_type": "markdown",
   "metadata": {},
   "source": [
    "#### 예제7. 이동 평균을 계산하는 클래스"
   ]
  },
  {
   "cell_type": "code",
   "execution_count": 47,
   "metadata": {},
   "outputs": [],
   "source": [
    "class Averager():\n",
    "    def __init__(self):\n",
    "        self.series = []\n",
    "        \n",
    "    def __call__(self, new_value):\n",
    "        self.series.append(new_value)\n",
    "        total = sum(self.series)\n",
    "        return total / len(self.series)"
   ]
  },
  {
   "cell_type": "code",
   "execution_count": 48,
   "metadata": {},
   "outputs": [
    {
     "data": {
      "text/plain": [
       "10.0"
      ]
     },
     "execution_count": 48,
     "metadata": {},
     "output_type": "execute_result"
    }
   ],
   "source": [
    "avg = Averager()\n",
    "avg(10)"
   ]
  },
  {
   "cell_type": "code",
   "execution_count": 49,
   "metadata": {},
   "outputs": [
    {
     "data": {
      "text/plain": [
       "10.5"
      ]
     },
     "execution_count": 49,
     "metadata": {},
     "output_type": "execute_result"
    }
   ],
   "source": [
    "avg(11)"
   ]
  },
  {
   "cell_type": "code",
   "execution_count": 50,
   "metadata": {},
   "outputs": [
    {
     "data": {
      "text/plain": [
       "11.0"
      ]
     },
     "execution_count": 50,
     "metadata": {},
     "output_type": "execute_result"
    }
   ],
   "source": [
    "avg(12)"
   ]
  },
  {
   "cell_type": "markdown",
   "metadata": {},
   "source": [
    "#### 예제8. 이동 평균을 계산하는 high-order function"
   ]
  },
  {
   "cell_type": "code",
   "execution_count": 51,
   "metadata": {},
   "outputs": [],
   "source": [
    "def make_averager():\n",
    "    series = []\n",
    "    \n",
    "    def averager(new_value):\n",
    "        series.append(new_value)\n",
    "        total = sum(series)\n",
    "        return total / len(series)\n",
    "    return averager"
   ]
  },
  {
   "cell_type": "code",
   "execution_count": 52,
   "metadata": {},
   "outputs": [
    {
     "data": {
      "text/plain": [
       "10.0"
      ]
     },
     "execution_count": 52,
     "metadata": {},
     "output_type": "execute_result"
    }
   ],
   "source": [
    "avg = make_averager()\n",
    "avg(10)"
   ]
  },
  {
   "cell_type": "code",
   "execution_count": 53,
   "metadata": {},
   "outputs": [
    {
     "data": {
      "text/plain": [
       "10.5"
      ]
     },
     "execution_count": 53,
     "metadata": {},
     "output_type": "execute_result"
    }
   ],
   "source": [
    "avg(11)"
   ]
  },
  {
   "cell_type": "code",
   "execution_count": 54,
   "metadata": {},
   "outputs": [
    {
     "data": {
      "text/plain": [
       "11.0"
      ]
     },
     "execution_count": 54,
     "metadata": {},
     "output_type": "execute_result"
    }
   ],
   "source": [
    "avg(12)"
   ]
  },
  {
   "cell_type": "markdown",
   "metadata": {},
   "source": [
    "#### 예제9. make_averager()로 생성한 함수 조사하기"
   ]
  },
  {
   "cell_type": "code",
   "execution_count": 55,
   "metadata": {},
   "outputs": [
    {
     "data": {
      "text/plain": [
       "('new_value', 'total')"
      ]
     },
     "execution_count": 55,
     "metadata": {},
     "output_type": "execute_result"
    }
   ],
   "source": [
    "avg.__code__.co_varnames"
   ]
  },
  {
   "cell_type": "code",
   "execution_count": 56,
   "metadata": {},
   "outputs": [
    {
     "data": {
      "text/plain": [
       "('series',)"
      ]
     },
     "execution_count": 56,
     "metadata": {},
     "output_type": "execute_result"
    }
   ],
   "source": [
    "avg.__code__.co_freevars"
   ]
  },
  {
   "cell_type": "code",
   "execution_count": 57,
   "metadata": {},
   "outputs": [
    {
     "data": {
      "text/plain": [
       "(<cell at 0x10773da60: list object at 0x107d1c8c0>,)"
      ]
     },
     "execution_count": 57,
     "metadata": {},
     "output_type": "execute_result"
    }
   ],
   "source": [
    "avg.__closure__"
   ]
  },
  {
   "cell_type": "code",
   "execution_count": 58,
   "metadata": {},
   "outputs": [
    {
     "data": {
      "text/plain": [
       "[10, 11, 12]"
      ]
     },
     "execution_count": 58,
     "metadata": {},
     "output_type": "execute_result"
    }
   ],
   "source": [
    "avg.__closure__[0].cell_contents"
   ]
  },
  {
   "cell_type": "markdown",
   "metadata": {},
   "source": [
    "#### 예제10. 전체 이력을 유지하지 않고 이동 평균을 잘못 계산하는 잘못된 high-order function"
   ]
  },
  {
   "cell_type": "code",
   "execution_count": 59,
   "metadata": {},
   "outputs": [],
   "source": [
    "def make_averager():\n",
    "    count = 0\n",
    "    total = 0\n",
    "    \n",
    "    def averager(new_value):\n",
    "        count += 1\n",
    "        total += new_value\n",
    "        return total / count\n",
    "    return averager"
   ]
  },
  {
   "cell_type": "code",
   "execution_count": 60,
   "metadata": {},
   "outputs": [
    {
     "ename": "UnboundLocalError",
     "evalue": "local variable 'count' referenced before assignment",
     "output_type": "error",
     "traceback": [
      "\u001b[0;31m---------------------------------------------------------------------------\u001b[0m",
      "\u001b[0;31mUnboundLocalError\u001b[0m                         Traceback (most recent call last)",
      "Cell \u001b[0;32mIn[60], line 2\u001b[0m\n\u001b[1;32m      1\u001b[0m avg \u001b[38;5;241m=\u001b[39m make_averager()\n\u001b[0;32m----> 2\u001b[0m \u001b[43mavg\u001b[49m\u001b[43m(\u001b[49m\u001b[38;5;241;43m10\u001b[39;49m\u001b[43m)\u001b[49m\n",
      "Cell \u001b[0;32mIn[59], line 6\u001b[0m, in \u001b[0;36mmake_averager.<locals>.averager\u001b[0;34m(new_value)\u001b[0m\n\u001b[1;32m      5\u001b[0m \u001b[38;5;28;01mdef\u001b[39;00m \u001b[38;5;21maverager\u001b[39m(new_value):\n\u001b[0;32m----> 6\u001b[0m     count \u001b[38;5;241m+\u001b[39m\u001b[38;5;241m=\u001b[39m \u001b[38;5;241m1\u001b[39m\n\u001b[1;32m      7\u001b[0m     total \u001b[38;5;241m+\u001b[39m\u001b[38;5;241m=\u001b[39m new_value\n\u001b[1;32m      8\u001b[0m     \u001b[38;5;28;01mreturn\u001b[39;00m total \u001b[38;5;241m/\u001b[39m count\n",
      "\u001b[0;31mUnboundLocalError\u001b[0m: local variable 'count' referenced before assignment"
     ]
    }
   ],
   "source": [
    "avg = make_averager()\n",
    "avg(10)"
   ]
  },
  {
   "cell_type": "markdown",
   "metadata": {},
   "source": [
    "#### 예제11. 전체 이력을 유지하지 않고 이동 평균 계산하기 (nonlocal로 수정)"
   ]
  },
  {
   "cell_type": "code",
   "execution_count": 61,
   "metadata": {},
   "outputs": [],
   "source": [
    "def make_averager():\n",
    "    count = 0\n",
    "    total = 0\n",
    "    \n",
    "    def averager(new_value):\n",
    "        nonlocal count, total\n",
    "        count += 1\n",
    "        total += new_value\n",
    "        return total / count\n",
    "    return averager"
   ]
  },
  {
   "cell_type": "code",
   "execution_count": 62,
   "metadata": {},
   "outputs": [
    {
     "data": {
      "text/plain": [
       "10.0"
      ]
     },
     "execution_count": 62,
     "metadata": {},
     "output_type": "execute_result"
    }
   ],
   "source": [
    "avg = make_averager()\n",
    "avg(10)"
   ]
  },
  {
   "cell_type": "markdown",
   "metadata": {},
   "source": [
    "#### 예제12. 함수의 실행 시간을 출력하는 간단한 decorator"
   ]
  },
  {
   "cell_type": "code",
   "execution_count": 65,
   "metadata": {},
   "outputs": [],
   "source": [
    "import time\n",
    "\n",
    "def clock(func):\n",
    "    def clocked(*args):\n",
    "        t0 = time.perf_counter()\n",
    "        result = func(*args)\n",
    "        elapsed = time.perf_counter() - t0\n",
    "        name = func.__name__\n",
    "        arg_str = ', '.join(repr(arg) for arg in args)\n",
    "        print('[%0.8fs] %s(%s) -> %r' % (elapsed, name, arg_str, result))\n",
    "        return result\n",
    "    return clocked"
   ]
  },
  {
   "cell_type": "markdown",
   "metadata": {},
   "source": [
    "#### 예제13. clock decorator 사용하기"
   ]
  },
  {
   "cell_type": "code",
   "execution_count": 66,
   "metadata": {},
   "outputs": [
    {
     "name": "stdout",
     "output_type": "stream",
     "text": [
      "**************************************** Calling snooze(.123)\n",
      "[0.12804296s] snooze(0.123) -> None\n",
      "**************************************** Calling factorial(6)\n",
      "[0.00000079s] factorial(1) -> 1\n",
      "[0.00002275s] factorial(2) -> 2\n",
      "[0.00004029s] factorial(3) -> 6\n",
      "[0.00007029s] factorial(4) -> 24\n",
      "[0.00009458s] factorial(5) -> 120\n",
      "[0.00012350s] factorial(6) -> 720\n",
      "6! = 720\n"
     ]
    }
   ],
   "source": [
    "@clock\n",
    "def snooze(seconds):\n",
    "    time.sleep(seconds)\n",
    "    \n",
    "@clock\n",
    "def factorial(n):\n",
    "    return 1 if n < 2 else n * factorial(n-1)\n",
    "\n",
    "if __name__ == '__main__':\n",
    "    print('*' * 40, 'Calling snooze(.123)')\n",
    "    snooze(.123)\n",
    "    print('*' * 40, 'Calling factorial(6)')\n",
    "    print('6! =', factorial(6))"
   ]
  },
  {
   "cell_type": "code",
   "execution_count": 67,
   "metadata": {},
   "outputs": [
    {
     "data": {
      "text/plain": [
       "'clocked'"
      ]
     },
     "execution_count": 67,
     "metadata": {},
     "output_type": "execute_result"
    }
   ],
   "source": [
    "factorial.__name__"
   ]
  },
  {
   "cell_type": "markdown",
   "metadata": {},
   "source": [
    "#### 예제14. 개선된 clock decorator"
   ]
  },
  {
   "cell_type": "code",
   "execution_count": 68,
   "metadata": {},
   "outputs": [],
   "source": [
    "import time\n",
    "import functools\n",
    "\n",
    "def clock(func):\n",
    "    @functools.wraps(func)\n",
    "    def clocked(*args, **kwargs):\n",
    "        t0 = time.perf_counter()\n",
    "        result = func(*args, **kwargs)\n",
    "        elapsed = time.perf_counter() - t0\n",
    "        arg_lst = []\n",
    "        name = func.__name__\n",
    "        if args:\n",
    "            arg_lst.append(', '.join(repr(arg) for arg in args))\n",
    "        if kwargs:\n",
    "            pairs = ['%s=%r' % (k, w) for k, w in sorted(kwargs.items())]\n",
    "            arg_lst.append(', '.join(paris))\n",
    "        arg_str = ', '.join(arg_lst)\n",
    "        print('[%0.8fs] %s(%s) -> %r' % (elapsed, name, arg_str, result))\n",
    "        return result\n",
    "    return clocked"
   ]
  },
  {
   "cell_type": "code",
   "execution_count": 69,
   "metadata": {},
   "outputs": [
    {
     "name": "stdout",
     "output_type": "stream",
     "text": [
      "**************************************** Calling snooze(.123)\n",
      "[0.12333129s] snooze(0.123) -> None\n",
      "**************************************** Calling factorial(6)\n",
      "[0.00000121s] factorial(1) -> 1\n",
      "[0.00003321s] factorial(2) -> 2\n",
      "[0.00005529s] factorial(3) -> 6\n",
      "[0.00007846s] factorial(4) -> 24\n",
      "[0.00010162s] factorial(5) -> 120\n",
      "[0.00012508s] factorial(6) -> 720\n",
      "6! = 720\n"
     ]
    }
   ],
   "source": [
    "@clock\n",
    "def snooze(seconds):\n",
    "    time.sleep(seconds)\n",
    "    \n",
    "@clock\n",
    "def factorial(n):\n",
    "    return 1 if n < 2 else n * factorial(n-1)\n",
    "\n",
    "if __name__ == '__main__':\n",
    "    print('*' * 40, 'Calling snooze(.123)')\n",
    "    snooze(.123)\n",
    "    print('*' * 40, 'Calling factorial(6)')\n",
    "    print('6! =', factorial(6))"
   ]
  },
  {
   "cell_type": "code",
   "execution_count": 70,
   "metadata": {},
   "outputs": [
    {
     "data": {
      "text/plain": [
       "'factorial'"
      ]
     },
     "execution_count": 70,
     "metadata": {},
     "output_type": "execute_result"
    }
   ],
   "source": [
    "factorial.__name__"
   ]
  }
 ],
 "metadata": {
  "kernelspec": {
   "display_name": "Python 3",
   "language": "python",
   "name": "python3"
  },
  "language_info": {
   "codemirror_mode": {
    "name": "ipython",
    "version": 3
   },
   "file_extension": ".py",
   "mimetype": "text/x-python",
   "name": "python",
   "nbconvert_exporter": "python",
   "pygments_lexer": "ipython3",
   "version": "3.9.6"
  }
 },
 "nbformat": 4,
 "nbformat_minor": 2
}
